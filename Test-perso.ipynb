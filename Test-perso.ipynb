{
 "cells": [
  {
   "cell_type": "markdown",
   "metadata": {},
   "source": [
    "# Questions J.O\n",
    "---"
   ]
  },
  {
   "cell_type": "markdown",
   "metadata": {},
   "source": [
    "- Q1 Combien la France a remporté de médaills d'or aux JO de 1984 ?\n",
    "\n",
    "*Réponse* :"
   ]
  },
  {
   "cell_type": "markdown",
   "metadata": {},
   "source": [
    "- Q2 Quel pays a le plus d’athlètes (toutes années confondues) ? (Matthias)\n",
    "\n",
    "*Réponse* : \n",
    "```sql\n",
    "```"
   ]
  },
  {
   "cell_type": "markdown",
   "metadata": {},
   "source": [
    "- Q3. En 2012 combien de médailles le Japon a t-il gagné ? (Théo)\n",
    "\n",
    "*Réponse* :\n",
    "```sql\n",
    "```"
   ]
  },
  {
   "cell_type": "markdown",
   "metadata": {},
   "source": [
    "- Q4. Dans quels différents sports les Grecs ont-ils gagné des médailles ? - (Corentin L)\n",
    "\n",
    "*Réponse* :"
   ]
  },
  {
   "cell_type": "markdown",
   "metadata": {},
   "source": [
    "- Q5. Quel pays a remporté le plus de médailles d’or ? (Philippe)\n",
    "\n",
    "*Réponse* :"
   ]
  },
  {
   "cell_type": "markdown",
   "metadata": {},
   "source": [
    "- Q6. Combien de villes différentes ont accueilli les JO d’été entre 1896 - et 2012 ? (Yoann)\n",
    "\n",
    "*Réponse* :"
   ]
  },
  {
   "cell_type": "markdown",
   "metadata": {},
   "source": [
    "- Q7. Combien de femmes ont obtenu une médaille d’or ? (Lamia)\n",
    "\n",
    "*Réponse* :"
   ]
  },
  {
   "cell_type": "markdown",
   "metadata": {},
   "source": [
    "- Q8. Combien de sports différents sont représentés par année ? (Joris)\n",
    "\n",
    "*Réponse* :"
   ]
  },
  {
   "cell_type": "markdown",
   "metadata": {},
   "source": [
    "- Q9. Combien de fois Londres a accueilli les J.O ? (Marvin)\n",
    "\n",
    "*Réponse* :"
   ]
  },
  {
   "cell_type": "markdown",
   "metadata": {},
   "source": [
    "- Q10. Combien de joueuses comptait la sélection brésilienne de volley-ball - médaillée d’or aux J.O de 2012 ? (Corentin P)\n",
    "\n",
    "*Réponse* :"
   ]
  },
  {
   "cell_type": "markdown",
   "metadata": {},
   "source": [
    "- Q11. Combien de femmes françaises ont participé en 2012 , quel sont leurs - médailles ? (Izak)\n",
    "\n",
    "*Réponse* :\n",
    "SELECT count(DISTINCT Athlete) AS Athletes, count(Medal) AS Medals\n",
    "FROM summer\n",
    "WHERE Gender='Women' AND Country='FRA' AND Year=2012\n",
    "\n",
    "Code 2 pour croiser les données :\n",
    "SELECT Medal, count(DISTINCT Athlete) AS Athletes, count(Medal) AS Medals\n",
    "FROM summer\n",
    "WHERE Gender='Women' AND Country='FRA' AND Year=2012\n",
    "GROUP BY Medal"
   ]
  },
  {
   "cell_type": "markdown",
   "metadata": {},
   "source": [
    "- Q12. Quel est l’athlète qui a remporté le plus de médailles d’or ? - (Mayel)\n",
    "\n",
    "*Réponse* :"
   ]
  },
  {
   "cell_type": "markdown",
   "metadata": {},
   "source": [
    "- Q13. Est-ce que la France à déjà gagné une médaille d’or au cricket ? - (Jordan)\n",
    "\n",
    "*Réponse* :"
   ]
  },
  {
   "cell_type": "markdown",
   "metadata": {},
   "source": [
    "- Q14. Combien de médaillés ont un nom de famille de plus de 6 lettres en - excluant les années paires ? (Jonathan)\n",
    "\n",
    "*Réponse* :"
   ]
  },
  {
   "cell_type": "markdown",
   "metadata": {},
   "source": [
    "- Q15. Le nombre de médailles d’or par pays en 2012 (Maëlle)\n",
    "\n",
    "*Réponse* :"
   ]
  },
  {
   "cell_type": "markdown",
   "metadata": {},
   "source": [
    "- Q16. Combien de femmes ont remporté des médailles ? (Alicia)\n",
    "\n",
    "*Réponse* :"
   ]
  },
  {
   "cell_type": "markdown",
   "metadata": {},
   "source": [
    "- Q17. Entre 1984 et 2012 combien de médailles a gagné la France ? (Abire)\n",
    "\n",
    "*Réponse* :"
   ]
  },
  {
   "cell_type": "code",
   "execution_count": null,
   "metadata": {},
   "outputs": [],
   "source": []
  }
 ],
 "metadata": {
  "kernelspec": {
   "display_name": "Python 3",
   "language": "python",
   "name": "python3"
  },
  "language_info": {
   "codemirror_mode": {
    "name": "ipython",
    "version": 3
   },
   "file_extension": ".py",
   "mimetype": "text/x-python",
   "name": "python",
   "nbconvert_exporter": "python",
   "pygments_lexer": "ipython3",
   "version": "3.8.6"
  }
 },
 "nbformat": 4,
 "nbformat_minor": 4
}
