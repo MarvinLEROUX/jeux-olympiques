{
 "cells": [
  {
   "cell_type": "markdown",
   "metadata": {},
   "source": [
    "# P3. Exploration SQL"
   ]
  },
  {
   "cell_type": "markdown",
   "metadata": {},
   "source": [
    "Le répertoire `/db` contient une base de données SQLite3 `olympics.sqbpro` reprenant les résultats des épreuves des jeux d'été pour une période donnée (cf P1 & P2).\n",
    "\n",
    "On s'intéresse dans le cadre de cette partie P3 à l'exploration via SQL des résultats des JO d'été (table : `summer`)."
   ]
  },
  {
   "cell_type": "markdown",
   "metadata": {},
   "source": [
    "---"
   ]
  },
  {
   "cell_type": "markdown",
   "metadata": {},
   "source": [
    "### Question 1: Qu'est ce que SQL ?"
   ]
  },
  {
   "cell_type": "markdown",
   "metadata": {},
   "source": [
    "**S**tructured **Q**uery **L**anguage\n",
    "\n",
    "- Permet de stocker des données (modèle relationel)\n",
    "- Manipuler ces données (requêtes, procèdure, ...)\n",
    "- Peut être employé dans un langage de programmation\n",
    "\n",
    "SQL est un langage informatique normalisé servant à exploiter des bases de données relationnelles.\n",
    "\n",
    "C'est l'évolution de SQL qui tire le bénéfice des SGBDR(*Systeme de Gestion de Base de Données Relationel*) et des SGBD objets.\n",
    "\n",
    "SQL3 supporte bien sûr la norme précédente SQL2 (compatibilité ascendante) mais propose également des extensions objets.\n",
    "\n",
    "SQL3 est donc à la fois : un langage de définition de types, un langage de programmation, un langage de requêtes, un langage temporel, ...\n",
    "\n",
    "SQL3 permet de gérer des données complexes dans le cadre de SGBD objet-relationnel :\n",
    "\n",
    "- Illustra, UniSQL, ODB II, Versant pour les nouveaux,\n",
    "\n",
    "- Ingres, Oracle, DB2 UDB, Informix pour les SGBD Relationnels étendus (dits \"universels\").\n",
    "\n",
    "<i>SQL3 est normalisé ANSI et le document de normalisation est découpé en 8 parties :</i>\n",
    "1. Le <b>cadre ( Framework )</b> est une description non-technique de comment le document est structuré\n",
    "\n",
    "2. Les <b>fondements (Foundation)</b> contient l'essentiel de SQL3 incluant les types de données abstraits et le modèle objet-relationnel\n",
    "\n",
    "3. L'<b>interface d'appel client</b> `(SQL/CLI)` permet le dialogue client/serveur,\n",
    "\n",
    "4. Le <b>langage des procédures stockées</b> `(SQL/PSM )` permet la spécification des procédures stockées,\n",
    "\n",
    "5. L'<b>intégration aux langages classiques</b> `(SQL/Bindings)` reprend l' «embedded »SQL-2 et l'étend à SQL3\n",
    "\n",
    "6. La <b>gestion des transactions</b> `(SQL/XA )` est une spécification de l'interface pour moniteur transactionnel distribué.\n",
    "\n",
    "7. La <b>gestion du temps</b> `(SQL/Temporal )` définit le support du temps et les intervalles...\n",
    "\n",
    "8. L'<b>accès aux données externes</b> `(SQL/MED)` permet l'utilisation de SQL pour accèder à ds données non SQL,\n",
    "\n",
    "9. L'<b>intégration aux langages objets</b> `(SQL/OBJ )` définit l'utilisation de SQL depuis un langage objet\n",
    "\n",
    "    (C++,Smalltalk ou Java).\n",
    "\n",
    "<i>L'essentiel de SQL3 est contenu dans les fondements :\n",
    "Etend le modèle relationnel grâce aux fonctionnalités orientées objet,</i>\n",
    "\n",
    "- Supporte les types de données complexes définis par l'utilisateur,\n",
    "\n",
    "- Etend le langage de requêtes,\n",
    "\n",
    "- Intègre la gestion des déclencheurs (triggers).\n",
    "\n",
    "**Source** : [Pairform](https://www.pairform.fr/doc/10/20/52/web/co/4_1__SQL3__c_est_quoi.html)"
   ]
  },
  {
   "cell_type": "markdown",
   "metadata": {},
   "source": [
    "### Question 2: Qu'est ce que SQLite 3 ? Avantages et/ou Inconvénients ?"
   ]
  },
  {
   "cell_type": "markdown",
   "metadata": {},
   "source": [
    "SQLite est un système de base de données ou une bibliothèque proposant un moteur de base de données relationnelles. Il repose sur une écriture en C, un langage de programmation impératif, et sur une accessibilité via le langage SQL (Structured Query Language).\n",
    "\n",
    "**Avantages:**\n",
    "- SQLite présente la particularité d'être directement intégré aux programmes et dans l'application utilisant sa bibliothèque logicielle alors que ses - -concurrents comme MySQL reproduisent de leur côté le schéma classique client-serveur.\n",
    "- Avec SQLite, la base de données est intégralement stockée dans un fichier indépendant du logiciel.\n",
    "\n",
    "**Inconvénients:**\n",
    "- écritures atomiques (avec SQLite, un seul processus peut écrire dans la base)\n",
    "- pas de réplication(La réplication consiste à créer des copies d'un serveur de base de données MySQL de façon à pouvoir répartir la charge (load-balancing) et ainsi pouvoir répondre à de fortes demandes, sur les sites à grande audience (comme facebook par exemple))."
   ]
  },
  {
   "cell_type": "markdown",
   "metadata": {},
   "source": [
    "### Question 3: Donner des exemples d'autres formats de fichier pouvant être utilisé pour fournir des données similaires "
   ]
  },
  {
   "cell_type": "markdown",
   "metadata": {},
   "source": [
    "XML JAVA JSON CSV Oracle"
   ]
  },
  {
   "cell_type": "markdown",
   "metadata": {},
   "source": [
    "### Question 4: Quel est le type (texte ou binaire) du fichier base de données SQLite3?"
   ]
  },
  {
   "cell_type": "markdown",
   "metadata": {},
   "source": [
    "Le fichier `olympics.sqbpro` est un fichier de type binaire"
   ]
  },
  {
   "cell_type": "markdown",
   "metadata": {},
   "source": [
    "### Question 5: Donner les caractéristiques de la table `summer` ? "
   ]
  },
  {
   "cell_type": "markdown",
   "metadata": {},
   "source": [
    "Les instructions SQL sont regroupées en catégories en fonction de leur utilité et des entités manipulées. Nous pouvons distinguer cinq catégories, qui permettent :\n",
    "\n",
    "- la définition des éléments d'une base de données (tables, colonnes, clés, index, contraintes…),\n",
    "- la manipulation des données (insertion, suppression, modification, extraction…),\n",
    "- la gestion des droits d'accès aux données (acquisition et révocation des droits),\n",
    "- la gestion des transactions,\n",
    "- et enfin le SQL intégré."
   ]
  },
  {
   "cell_type": "markdown",
   "metadata": {},
   "source": [
    "---\n",
    "### Question 6: Combien d'enregistrements possède la table `summer` ?"
   ]
  },
  {
   "cell_type": "markdown",
   "metadata": {},
   "source": [
    "``` SQL\n",
    "SELECT count(*)\n",
    "FROM summer;\n",
    "```\n",
    "Resultat: **31165**\n",
    "\n",
    "![P3-Q7](images/P3-Q6.jpeg)"
   ]
  },
  {
   "cell_type": "markdown",
   "metadata": {},
   "source": [
    "### Question 7: Quelle période des JO couvre ce fichier de résultats ?"
   ]
  },
  {
   "cell_type": "markdown",
   "metadata": {},
   "source": [
    "``` SQL\n",
    "SELECT MIN(Year) AS min_year, \n",
    "    MAX(Year) AS max_year\n",
    "FROM summer;\n",
    "```\n",
    "Resultat : **de 1896 à 2012**\n",
    "\n",
    "![P3-Q7](images/P3-Q7.jpeg)"
   ]
  },
  {
   "cell_type": "markdown",
   "metadata": {},
   "source": [
    "### Question 8: Indiquer les années et villes des olympiades ? "
   ]
  },
  {
   "cell_type": "markdown",
   "metadata": {},
   "source": [
    "```sql\n",
    "SELECT DISTINCT Year, City\n",
    "FROM summer;\n",
    "```\n",
    "Resultat :\n",
    "\n",
    "| Année | Ville |\n",
    "| --- | --- |\n",
    "| 1896  | Athens|\n",
    "| 1900  | Paris |\n",
    "| 1904 | St Louis |\n",
    "|1908|London|\n",
    "|1912|Stockhol\n",
    "|1920|Antwerp|\n",
    "|1924|Paris|\n",
    "|1928|Amsterdam|\n",
    "|1932|Los Angeles|\n",
    "|1936|Berlin|\n",
    "|1948|London|\n",
    "|1952|Helsinki|\n",
    "|1956|Melbourne / Stockholm|\n",
    "|1960|Rome|\n",
    "|1964|Tokyo|\n",
    "|1968|Mexico|\n",
    "|1972|Munich|\n",
    "|1976|Montreal|\n",
    "|1980|Moscow|\n",
    "|1984|Los Angeles|\n",
    "|1988|Seoul|\n",
    "|1992|Barcelona|\n",
    "|1996|Atlanta|\n",
    "|2000|Sydney|\n",
    "|2004|Athens|\n",
    "|2008|Beijing|\n",
    "|2012|London|\n",
    "\n",
    "![P3-Q8](images/P3-Q8.jpeg)"
   ]
  },
  {
   "cell_type": "markdown",
   "metadata": {},
   "source": [
    "---\n",
    "# QUESTIONS J.O `(SQL)`"
   ]
  },
  {
   "cell_type": "markdown",
   "metadata": {},
   "source": [
    "---\n",
    "- **Q1 Combien la France a remporté de médaills d'or aux JO de 1984 ?**\n",
    "\n",
    "*Réponse* :\n",
    "```sql\n",
    "SELECT count(*)\n",
    "FROM summer\n",
    "WHERE Year =1984 AND Country = 'FRA' AND Medal = 'Gold'\n",
    "```\n",
    "\n",
    "**21**"
   ]
  },
  {
   "cell_type": "markdown",
   "metadata": {},
   "source": [
    "---\n",
    "- **Q2 Quel pays a le plus d’athlètes (toutes années confondues) ? (Matthias)**\n",
    "\n",
    "*Réponse* : \n",
    "```sql\n",
    "SELECT country, count(DISTINCT Athlete) as Total_athletes\n",
    "FROM summer\n",
    "GROUP BY Country\n",
    "ORDER BY Total_athletes DESC;\n",
    "```\n",
    "*Correction* :\n",
    "```sql\n",
    "SELECT Country, count(DISTINCT Athlete)\n",
    "FROM summer\n",
    "GROUP BY Country\n",
    "ORDER BY count(DISTINCT Athlete) DESC\n",
    "LIMIT 1\n",
    "```\n",
    "**3149**"
   ]
  },
  {
   "cell_type": "markdown",
   "metadata": {},
   "source": [
    "---\n",
    "- **Q3 En 2012 combien de médailles le Japon a t-il gagné ? (Théo)**\n",
    "\n",
    "*Réponse* :\n",
    "```sql\n",
    "SELECT count(Medal)\n",
    "FROM summer\n",
    "WHERE Year = 2012 AND Country = \"JPN\";\n",
    "```\n",
    "**84**"
   ]
  },
  {
   "cell_type": "markdown",
   "metadata": {},
   "source": [
    "---\n",
    "- **Q4 Dans quels différents sports les Grecs ont-ils gagné des médailles ? - (Corentin L)**\n",
    "\n",
    "*Réponse* Corrigé :\n",
    "```sql\n",
    "SELECT Sport, count(Medal)\n",
    "FROM summer\n",
    "WHERE Country = \"GRE\"\n",
    "GROUP BY Sport\n",
    "ORDER BY count(Medal) DESC\n",
    "```\n",
    "|Discipline|Nb Medailles|\n",
    "|---|---|\n",
    "|Athletics|29|\n",
    "|Aquatics|22|\n",
    "|Gymnastics|21|\n",
    "|Weightlifting|15|\n",
    "|Shooting1|4|\n",
    "|Sailing|14|\n",
    "|Wrestling|11|\n",
    "|Rowing|6|\n",
    "|Taekwondo|4|\n",
    "|Fencing|4|\n",
    "|Cycling|4|\n",
    "|Tennis|2|\n",
    "|Judo|2|"
   ]
  },
  {
   "cell_type": "markdown",
   "metadata": {},
   "source": [
    "---\n",
    "- **Q5 Quel pays a remporté le plus de médailles d’or ? (Philippe)**\n",
    "\n",
    "*Réponse* :\n",
    "```sql\n",
    "SELECT Country, COUNT(Medal)\n",
    "FROM summer\n",
    "WHERE Medal = \"Gold\"\n",
    "GROUP BY Country\n",
    "ORDER BY COUNT(Medal) DESC\n",
    "LIMIT 1;\n",
    "```\n",
    "**USA 2235**\n",
    "\n",
    "*correction* :\n",
    "```sql\n",
    "SELECT Country AS Country, count(Medal) AS Medal\n",
    "FROM summer\n",
    "WHERE Medal = 'Gold'\n",
    "GROUP BY Country\n",
    "ORDER BY count(Medal) DESC\n",
    "LIMIT 5\n",
    "```\n",
    "|Pays|Nb Médailles d'or|\n",
    "|----|----|\n",
    "|USA|2235|\n",
    "|URS|838|\n",
    "|GBR|546|\n",
    "|ITA|476|\n",
    "|GER|452|"
   ]
  },
  {
   "cell_type": "markdown",
   "metadata": {},
   "source": [
    "---\n",
    "- **Q6 Combien de villes différentes ont accueilli les JO d’été entre 1896 - et 2012 ? (Yoann)**\n",
    "\n",
    "*Réponse* :\n",
    "```sql\n",
    "SELECT DISTINCT Year, City\n",
    "FROM summer\n",
    "WHERE Year BETWEEN '1896' AND '2012'\n",
    "GROUP BY Year;\n",
    "```\n",
    "**3**"
   ]
  },
  {
   "cell_type": "markdown",
   "metadata": {},
   "source": [
    "---\n",
    "- **Q7 Combien de femmes ont obtenu une médaille d’or ? (Lamia)**\n",
    "\n",
    "*Réponse* :\n",
    "```sql\n",
    "SELECT DISTINCT count(Gender)\n",
    "FROM summer\n",
    "WHERE Medal='Gold' and Gender='Women';\n",
    "```\n",
    "**31**"
   ]
  },
  {
   "cell_type": "markdown",
   "metadata": {},
   "source": [
    "---\n",
    "- **Q8 Combien de sports différents sont représentés par année ? (Joris)**\n",
    "\n",
    "*Réponse* :\n",
    "```sql\n",
    "SELECT Year, COUNT(DISTINCT Sport)\n",
    "FROM summer\n",
    "GROUP BY Year;\n",
    "```\n",
    "|Année | NB Sports|\n",
    "|---|---|\n",
    "|1896|9|\n",
    "|19001|9|\n",
    "|1904|16|\n",
    "|1908|22|\n",
    "|1912|14|\n",
    "|1920|22|\n",
    "|1924|17|\n",
    "|1928|14|\n",
    "|1932|14|\n",
    "|1936|19|\n",
    "|1948|17|\n",
    "|1952|17|\n",
    "|1956|17|\n",
    "|1960|17|\n",
    "|1964|19|\n",
    "|1968|18|\n",
    "|1972|21|\n",
    "|1976|21|\n",
    "|1980|21|\n",
    "|1984|21|\n",
    "|1988|23|\n",
    "|1992|25|\n",
    "|1996|26|\n",
    "|2000|28|\n",
    "|2004|28|\n",
    "|2008|28|\n",
    "|2012|26|"
   ]
  },
  {
   "cell_type": "markdown",
   "metadata": {},
   "source": [
    "---\n",
    "- **Q9 Combien de fois Londres a accueilli les J.O ? (Marvin)**\n",
    "\n",
    "*Réponse* :\n",
    "```sql\n",
    "SELECT DISTINCT Year, City\n",
    "FROM summer\n",
    "WHERE city='London'\n",
    "```\n",
    "**3**"
   ]
  },
  {
   "cell_type": "markdown",
   "metadata": {},
   "source": [
    "---\n",
    "- **Q10 Combien de joueuses comptait la sélection brésilienne de volley-ball - médaillée d’or aux J.O de 2012 ? (Corentin P)**\n",
    "\n",
    "*Réponse* 1 :\n",
    "```sql\n",
    "SELECT COUNT(DISTINCT Athlete)\n",
    "FROM summer\n",
    "WHERE Year = 2012 AND Sport = \"Volleyball\" AND Country = \"BRA\" AND Medal = \"Gold\" AND Gender = \"Women\"\n",
    "```\n",
    "**12**\n",
    "\n"
   ]
  },
  {
   "cell_type": "markdown",
   "metadata": {},
   "source": [
    "---\n",
    "- **Q11 Combien de femmes françaises ont participé en 2012 , quel sont leurs - médailles ? (Izak)**\n",
    "\n",
    "*Réponse* :\n",
    "```sql\n",
    "SELECT count(DISTINCT Athlete) AS Athletes, count(Medal) AS Medals\n",
    "FROM summer\n",
    "WHERE Gender='Women' AND Country='FRA' AND Year=2012\n",
    "```\n",
    "*Réponse* 2 :\n",
    "```sql\n",
    "SELECT Medal, count(DISTINCT Athlete) AS Athletes, count(Medal) AS Medals\n",
    "FROM summer\n",
    "WHERE Gender='Women' AND Country='FRA' AND Year=2012\n",
    "GROUP BY Medal\n",
    "```\n",
    "|**Medal**|NbAthletes|Medals|\n",
    "|---|---|---|\n",
    "|GOLD| 4 | 4 |\n",
    "|SILVER|15|15|\n",
    "|BRONZE|12|12|\n"
   ]
  },
  {
   "cell_type": "markdown",
   "metadata": {},
   "source": [
    "---\n",
    "- **Q12. Quel est l’athlète qui a remporté le plus de médailles d’or ? - (Mayel)**\n",
    "\n",
    "\n",
    "*Réponse* :\n",
    "```sql\n",
    "SELECT Athlete, count(Medal) as nMedalGold\n",
    "FROM summer\n",
    "WHERE Medal='Gold'\n",
    "GROUP BY Athlete\n",
    "ORDER BY nMedalGold DESC\n",
    "LIMIT 1\n",
    "```\n",
    "**PHELPS, Michael** avec `18 Médailles`"
   ]
  },
  {
   "cell_type": "markdown",
   "metadata": {},
   "source": [
    "---\n",
    "- Q13. Est-ce que la France à déjà gagné une médaille d’or au cricket ? - (Jordan)\n",
    "\n",
    "\n",
    "*Réponse* :\n",
    "```sql\n",
    "\n",
    "```"
   ]
  },
  {
   "cell_type": "markdown",
   "metadata": {},
   "source": [
    "---\n",
    "- Q14. Combien de médaillés ont un nom de famille de plus de 6 lettres en - excluant les années paires ? (Jonathan)\n",
    "\n",
    "\n",
    "*Réponse* :\n",
    "```sql\n",
    "\n",
    "```"
   ]
  },
  {
   "cell_type": "markdown",
   "metadata": {},
   "source": [
    "---\n",
    "- Q15. Le nombre de médailles d’or par pays en 2012 (Maëlle)\n",
    "\n",
    "\n",
    "*Réponse* :\n",
    "```sql\n",
    "SELECT Country, Year, COUNT(Medal)\n",
    "FROM summer\n",
    "WHERE Medal='Gold'\n",
    "    AND Year=2012\n",
    "GROUP BY Country\n",
    "ORDER BY COUNT(Medal) DESC;\n",
    "```\n",
    "|Country|Year|Medals|\n",
    "|---|---|---|\n",
    "|USA|2012|147|\n",
    "|CHN|2012|56|\n",
    "|GBR|2012|48|\n",
    "|RUS|2012|47|\n",
    "|GER|2012|45|\n",
    "|FRA|2012|30|\n",
    "|NED|2012|21|\n",
    "|AUS|2012|19|\n",
    "|MEX|2012|18|\n",
    "|KOR|2012|18|\n",
    "|ITA|2012|16|\n",
    "|NOR|2012|15|\n",
    "|CRO|2012|15|\n",
    "|BRA|2012|14|\n",
    "|HUN|2012|12|\n",
    "|UKR|2012|9|\n",
    "|NZL|2012|9|\n",
    "|JAM|2012|8|\n",
    "|JPN|2012|7|\n",
    "|RSA|2012|6|\n",
    "|ESP|2012|6|\n",
    "|IRI|2012|5|\n",
    "|CUB|2012|5|\n",
    "|PRK|2012|4|\n",
    "|CZE|2012|4|\n",
    "|BAH|2012|4|\n",
    "|POL|2012|3|\n",
    "|KAZ|2012|3|\n",
    "|ETH|2012|3|\n",
    "|DEN|2012|3|\n",
    "|BLR|2012|3|\n",
    "|TUN|2012|2|\n",
    "|SWE|2012|2|\n",
    "|SUI|2012|2|\n",
    "|ROU|2012|2|\n",
    "|LTU|2012|2|\n",
    "|KEN|2012|2|\n",
    "|AZE|2012|2|\n",
    "|NULL|2012|2|\n",
    "|VEN|2012|1|\n",
    "|UZB|2012|1|\n",
    "|UGA|2012|1|\n",
    "|TUR|2012|1|\n",
    "|TTO|2012|1|\n",
    "|TPE|2012|1|\n",
    "|SRB|2012|1|\n",
    "|SLO|2012|1|\n",
    "|LAT|2012|1|\n",
    "|IRL|2012|1|\n",
    "|GRN|2012|1|\n",
    "|GEO|2012|1|\n",
    "|DOM|2012|1|\n",
    "|COL|2012|1|\n",
    "|CAN|2012|1|\n",
    "|ARG|2012|1|\n",
    "|ALG|2012|1|"
   ]
  },
  {
   "cell_type": "markdown",
   "metadata": {},
   "source": [
    "---\n",
    "- Q16. Combien de femmes ont remporté des médailles ? (Alicia)\n",
    "\n",
    "\n",
    "*Réponse* :\n",
    "```sql\n",
    "SELECT count(DISTINCT Athlete) AS Athletes, count (Medal) as Medals\n",
    "FROM summer\n",
    "WHERE Gender='Women'\n",
    "```\n",
    "**5838** Femmes ont remportées pour **8419** au TOTAL"
   ]
  },
  {
   "cell_type": "markdown",
   "metadata": {},
   "source": [
    "---\n",
    "- Q17. Entre 1984 et 2012 combien de médailles a gagné la France ? (Abire)\n",
    "\n",
    "\n",
    "*Réponse* :\n",
    "```sql\n",
    "\n",
    "```"
   ]
  },
  {
   "cell_type": "markdown",
   "metadata": {},
   "source": [
    "### Question i: "
   ]
  },
  {
   "cell_type": "code",
   "execution_count": null,
   "metadata": {},
   "outputs": [],
   "source": []
  },
  {
   "cell_type": "markdown",
   "metadata": {},
   "source": [
    "--- "
   ]
  },
  {
   "cell_type": "markdown",
   "metadata": {},
   "source": [
    "Fin"
   ]
  }
 ],
 "metadata": {
  "kernelspec": {
   "display_name": "Python 3",
   "language": "python",
   "name": "python3"
  },
  "language_info": {
   "codemirror_mode": {
    "name": "ipython",
    "version": 3
   },
   "file_extension": ".py",
   "mimetype": "text/x-python",
   "name": "python",
   "nbconvert_exporter": "python",
   "pygments_lexer": "ipython3",
   "version": "3.8.6"
  }
 },
 "nbformat": 4,
 "nbformat_minor": 4
}
